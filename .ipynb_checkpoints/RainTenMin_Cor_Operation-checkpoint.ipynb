{
 "cells": [
  {
   "cell_type": "markdown",
   "metadata": {},
   "source": [
    "# SEIDM"
   ]
  },
  {
   "cell_type": "code",
   "execution_count": 2,
   "metadata": {
    "collapsed": true
   },
   "outputs": [],
   "source": [
    "%matplotlib inline\n",
    "\n",
    "import os\n",
    "import pandas\n",
    "import random"
   ]
  },
  {
   "cell_type": "code",
   "execution_count": 3,
   "metadata": {
    "collapsed": true,
    "scrolled": true
   },
   "outputs": [],
   "source": [
    "input_csv = 'RainTenMin_20170712135025.csv'\n",
    "full_df = pandas.read_csv(input_csv, sep=',', skipinitialspace=True)"
   ]
  },
  {
   "cell_type": "markdown",
   "metadata": {},
   "source": [
    "### Radom Selection"
   ]
  },
  {
   "cell_type": "code",
   "execution_count": 4,
   "metadata": {
    "collapsed": true
   },
   "outputs": [],
   "source": [
    "num_lines_full_df = sum(1 for l in open(input_csv))\n",
    "skip_idx = random.sample(range(1, num_lines_full_df), int(num_lines_full_df * 0.99))"
   ]
  },
  {
   "cell_type": "code",
   "execution_count": 5,
   "metadata": {},
   "outputs": [
    {
     "data": {
      "text/html": [
       "<div>\n",
       "<style>\n",
       "    .dataframe thead tr:only-child th {\n",
       "        text-align: right;\n",
       "    }\n",
       "\n",
       "    .dataframe thead th {\n",
       "        text-align: left;\n",
       "    }\n",
       "\n",
       "    .dataframe tbody tr th {\n",
       "        vertical-align: top;\n",
       "    }\n",
       "</style>\n",
       "<table border=\"1\" class=\"dataframe\">\n",
       "  <thead>\n",
       "    <tr style=\"text-align: right;\">\n",
       "      <th></th>\n",
       "      <th>SiteId</th>\n",
       "      <th>SiteName</th>\n",
       "      <th>County</th>\n",
       "      <th>Township</th>\n",
       "      <th>TWD67Lon</th>\n",
       "      <th>TWD67Lat</th>\n",
       "      <th>Rainfall10min</th>\n",
       "      <th>Rainfall1hr</th>\n",
       "      <th>Rainfall3hr</th>\n",
       "      <th>Rainfall6hr</th>\n",
       "      <th>Rainfall12hr</th>\n",
       "      <th>Rainfall24hr</th>\n",
       "      <th>Now</th>\n",
       "      <th>Unit</th>\n",
       "      <th>PublishTime</th>\n",
       "    </tr>\n",
       "  </thead>\n",
       "  <tbody>\n",
       "    <tr>\n",
       "      <th>0</th>\n",
       "      <td>C0R620</td>\n",
       "      <td>墾雷</td>\n",
       "      <td>屏東縣</td>\n",
       "      <td>恆春鎮</td>\n",
       "      <td>120.8472</td>\n",
       "      <td>21.9027</td>\n",
       "      <td>0</td>\n",
       "      <td>0.0</td>\n",
       "      <td>0.0</td>\n",
       "      <td>0.0</td>\n",
       "      <td>1.5</td>\n",
       "      <td>1.5</td>\n",
       "      <td>1.5</td>\n",
       "      <td>局屬無人測站</td>\n",
       "      <td>2017-07-12 13:40:00</td>\n",
       "    </tr>\n",
       "    <tr>\n",
       "      <th>1</th>\n",
       "      <td>C0K470</td>\n",
       "      <td>林內</td>\n",
       "      <td>雲林縣</td>\n",
       "      <td>林內鄉</td>\n",
       "      <td>120.6015</td>\n",
       "      <td>23.7504</td>\n",
       "      <td>0</td>\n",
       "      <td>0.0</td>\n",
       "      <td>0.0</td>\n",
       "      <td>0.0</td>\n",
       "      <td>0.0</td>\n",
       "      <td>10.5</td>\n",
       "      <td>0.0</td>\n",
       "      <td>局屬無人測站</td>\n",
       "      <td>2017-07-12 13:40:00</td>\n",
       "    </tr>\n",
       "    <tr>\n",
       "      <th>2</th>\n",
       "      <td>01H780</td>\n",
       "      <td>內茅埔(2</td>\n",
       "      <td>南投縣</td>\n",
       "      <td>信義鄉</td>\n",
       "      <td>120.8437</td>\n",
       "      <td>23.6924</td>\n",
       "      <td>0</td>\n",
       "      <td>0.0</td>\n",
       "      <td>0.0</td>\n",
       "      <td>0.0</td>\n",
       "      <td>0.0</td>\n",
       "      <td>0.0</td>\n",
       "      <td>0.0</td>\n",
       "      <td>水利署第四河川局</td>\n",
       "      <td>2017-07-12 13:40:00</td>\n",
       "    </tr>\n",
       "    <tr>\n",
       "      <th>3</th>\n",
       "      <td>88O950</td>\n",
       "      <td>羌黃坑</td>\n",
       "      <td>臺南市</td>\n",
       "      <td>南化區</td>\n",
       "      <td>120.5289</td>\n",
       "      <td>23.0739</td>\n",
       "      <td>0</td>\n",
       "      <td>0.0</td>\n",
       "      <td>0.0</td>\n",
       "      <td>0.0</td>\n",
       "      <td>0.0</td>\n",
       "      <td>18.5</td>\n",
       "      <td>0.0</td>\n",
       "      <td>農委會水土保持局</td>\n",
       "      <td>2017-07-12 13:40:00</td>\n",
       "    </tr>\n",
       "    <tr>\n",
       "      <th>4</th>\n",
       "      <td>A1A9W0</td>\n",
       "      <td>陽明高中</td>\n",
       "      <td>臺北市</td>\n",
       "      <td>士林區</td>\n",
       "      <td>121.5085</td>\n",
       "      <td>25.0943</td>\n",
       "      <td>0</td>\n",
       "      <td>0.0</td>\n",
       "      <td>0.0</td>\n",
       "      <td>0.0</td>\n",
       "      <td>0.0</td>\n",
       "      <td>0.0</td>\n",
       "      <td>0.0</td>\n",
       "      <td>臺北市水利處</td>\n",
       "      <td>2017-07-12 13:40:00</td>\n",
       "    </tr>\n",
       "    <tr>\n",
       "      <th>5</th>\n",
       "      <td>C1T850</td>\n",
       "      <td>吉安</td>\n",
       "      <td>花蓮縣</td>\n",
       "      <td>吉安鄉</td>\n",
       "      <td>121.5547</td>\n",
       "      <td>23.9753</td>\n",
       "      <td>0</td>\n",
       "      <td>0.0</td>\n",
       "      <td>0.0</td>\n",
       "      <td>0.0</td>\n",
       "      <td>0.0</td>\n",
       "      <td>0.0</td>\n",
       "      <td>0.0</td>\n",
       "      <td>局屬無人測站</td>\n",
       "      <td>2017-07-12 13:40:00</td>\n",
       "    </tr>\n",
       "    <tr>\n",
       "      <th>6</th>\n",
       "      <td>C1H860</td>\n",
       "      <td>瑞岩</td>\n",
       "      <td>南投縣</td>\n",
       "      <td>仁愛鄉</td>\n",
       "      <td>121.1750</td>\n",
       "      <td>24.1256</td>\n",
       "      <td>0</td>\n",
       "      <td>2.5</td>\n",
       "      <td>2.5</td>\n",
       "      <td>2.5</td>\n",
       "      <td>2.5</td>\n",
       "      <td>2.5</td>\n",
       "      <td>2.5</td>\n",
       "      <td>局屬無人測站</td>\n",
       "      <td>2017-07-12 13:40:00</td>\n",
       "    </tr>\n",
       "    <tr>\n",
       "      <th>7</th>\n",
       "      <td>C1O870</td>\n",
       "      <td>大棟山</td>\n",
       "      <td>臺南市</td>\n",
       "      <td>白河區</td>\n",
       "      <td>120.5142</td>\n",
       "      <td>23.3133</td>\n",
       "      <td>0</td>\n",
       "      <td>0.0</td>\n",
       "      <td>0.0</td>\n",
       "      <td>0.0</td>\n",
       "      <td>0.0</td>\n",
       "      <td>2.5</td>\n",
       "      <td>0.0</td>\n",
       "      <td>局屬無人測站</td>\n",
       "      <td>2017-07-12 13:40:00</td>\n",
       "    </tr>\n",
       "  </tbody>\n",
       "</table>\n",
       "</div>"
      ],
      "text/plain": [
       "   SiteId SiteName County Township  TWD67Lon  TWD67Lat  Rainfall10min  \\\n",
       "0  C0R620       墾雷    屏東縣      恆春鎮  120.8472   21.9027              0   \n",
       "1  C0K470       林內    雲林縣      林內鄉  120.6015   23.7504              0   \n",
       "2  01H780    內茅埔(2    南投縣      信義鄉  120.8437   23.6924              0   \n",
       "3  88O950      羌黃坑    臺南市      南化區  120.5289   23.0739              0   \n",
       "4  A1A9W0     陽明高中    臺北市      士林區  121.5085   25.0943              0   \n",
       "5  C1T850       吉安    花蓮縣      吉安鄉  121.5547   23.9753              0   \n",
       "6  C1H860       瑞岩    南投縣      仁愛鄉  121.1750   24.1256              0   \n",
       "7  C1O870      大棟山    臺南市      白河區  120.5142   23.3133              0   \n",
       "\n",
       "   Rainfall1hr  Rainfall3hr  Rainfall6hr  Rainfall12hr  Rainfall24hr  Now  \\\n",
       "0          0.0          0.0          0.0           1.5           1.5  1.5   \n",
       "1          0.0          0.0          0.0           0.0          10.5  0.0   \n",
       "2          0.0          0.0          0.0           0.0           0.0  0.0   \n",
       "3          0.0          0.0          0.0           0.0          18.5  0.0   \n",
       "4          0.0          0.0          0.0           0.0           0.0  0.0   \n",
       "5          0.0          0.0          0.0           0.0           0.0  0.0   \n",
       "6          2.5          2.5          2.5           2.5           2.5  2.5   \n",
       "7          0.0          0.0          0.0           0.0           2.5  0.0   \n",
       "\n",
       "       Unit          PublishTime  \n",
       "0    局屬無人測站  2017-07-12 13:40:00  \n",
       "1    局屬無人測站  2017-07-12 13:40:00  \n",
       "2  水利署第四河川局  2017-07-12 13:40:00  \n",
       "3  農委會水土保持局  2017-07-12 13:40:00  \n",
       "4    臺北市水利處  2017-07-12 13:40:00  \n",
       "5    局屬無人測站  2017-07-12 13:40:00  \n",
       "6    局屬無人測站  2017-07-12 13:40:00  \n",
       "7    局屬無人測站  2017-07-12 13:40:00  "
      ]
     },
     "execution_count": 5,
     "metadata": {},
     "output_type": "execute_result"
    }
   ],
   "source": [
    "sample_df = pandas.read_csv(input_csv, skiprows=skip_idx, sep=',', skipinitialspace=True)\n",
    "\n",
    "sample_df"
   ]
  },
  {
   "cell_type": "markdown",
   "metadata": {},
   "source": [
    "### Save DataFrame to CSV"
   ]
  },
  {
   "cell_type": "code",
   "execution_count": 6,
   "metadata": {},
   "outputs": [],
   "source": [
    "cor_df = full_df[['SiteId', 'SiteName', 'TWD67Lon', 'TWD67Lat']]"
   ]
  },
  {
   "cell_type": "code",
   "execution_count": 7,
   "metadata": {
    "collapsed": true
   },
   "outputs": [],
   "source": [
    "output_csv = 'RainTenMin_Cor.csv'\n",
    "cor_df.to_csv(output_csv, index=False, sep=',', encoding='utf-8')"
   ]
  },
  {
   "cell_type": "code",
   "execution_count": null,
   "metadata": {
    "collapsed": true
   },
   "outputs": [],
   "source": []
  }
 ],
 "metadata": {
  "kernelspec": {
   "display_name": "Python 3",
   "language": "python",
   "name": "python3"
  },
  "language_info": {
   "codemirror_mode": {
    "name": "ipython",
    "version": 3
   },
   "file_extension": ".py",
   "mimetype": "text/x-python",
   "name": "python",
   "nbconvert_exporter": "python",
   "pygments_lexer": "ipython3",
   "version": "3.6.1"
  }
 },
 "nbformat": 4,
 "nbformat_minor": 2
}
