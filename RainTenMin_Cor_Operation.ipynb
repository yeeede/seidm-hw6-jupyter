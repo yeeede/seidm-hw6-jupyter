{
 "cells": [
  {
   "cell_type": "markdown",
   "metadata": {},
   "source": [
    "# SEIDM"
   ]
  },
  {
   "cell_type": "code",
   "execution_count": 8,
   "metadata": {
    "collapsed": true
   },
   "outputs": [],
   "source": [
    "%matplotlib inline\n",
    "\n",
    "import os\n",
    "import pandas\n",
    "import random"
   ]
  },
  {
   "cell_type": "code",
   "execution_count": 25,
   "metadata": {
    "scrolled": true
   },
   "outputs": [],
   "source": [
    "input_csv = 'RainTenMin_20170712135025.csv'\n",
    "full_df = pandas.read_csv(input_csv, sep=',', skipinitialspace=True)"
   ]
  },
  {
   "cell_type": "markdown",
   "metadata": {},
   "source": [
    "### Radom Selection"
   ]
  },
  {
   "cell_type": "code",
   "execution_count": 26,
   "metadata": {},
   "outputs": [],
   "source": [
    "num_lines_full_df = sum(1 for l in open(input_csv))\n",
    "skip_idx = random.sample(range(1, num_lines_full_df), int(num_lines_full_df * 0.99))"
   ]
  },
  {
   "cell_type": "code",
   "execution_count": 36,
   "metadata": {},
   "outputs": [
    {
     "data": {
      "text/html": [
       "<div>\n",
       "<style>\n",
       "    .dataframe thead tr:only-child th {\n",
       "        text-align: right;\n",
       "    }\n",
       "\n",
       "    .dataframe thead th {\n",
       "        text-align: left;\n",
       "    }\n",
       "\n",
       "    .dataframe tbody tr th {\n",
       "        vertical-align: top;\n",
       "    }\n",
       "</style>\n",
       "<table border=\"1\" class=\"dataframe\">\n",
       "  <thead>\n",
       "    <tr style=\"text-align: right;\">\n",
       "      <th></th>\n",
       "      <th>SiteId</th>\n",
       "      <th>SiteName</th>\n",
       "      <th>County</th>\n",
       "      <th>Township</th>\n",
       "      <th>TWD67Lon</th>\n",
       "      <th>TWD67Lat</th>\n",
       "      <th>Rainfall10min</th>\n",
       "      <th>Rainfall1hr</th>\n",
       "      <th>Rainfall3hr</th>\n",
       "      <th>Rainfall6hr</th>\n",
       "      <th>Rainfall12hr</th>\n",
       "      <th>Rainfall24hr</th>\n",
       "      <th>Now</th>\n",
       "      <th>Unit</th>\n",
       "      <th>PublishTime</th>\n",
       "    </tr>\n",
       "  </thead>\n",
       "  <tbody>\n",
       "    <tr>\n",
       "      <th>0</th>\n",
       "      <td>C0R260</td>\n",
       "      <td>春日</td>\n",
       "      <td>屏東縣</td>\n",
       "      <td>春日鄉</td>\n",
       "      <td>120.6203</td>\n",
       "      <td>22.3722</td>\n",
       "      <td>0</td>\n",
       "      <td>0.0</td>\n",
       "      <td>0.0</td>\n",
       "      <td>0.0</td>\n",
       "      <td>0.0</td>\n",
       "      <td>0.0</td>\n",
       "      <td>0.0</td>\n",
       "      <td>局屬無人測站</td>\n",
       "      <td>2017-07-12 13:40:00</td>\n",
       "    </tr>\n",
       "    <tr>\n",
       "      <th>1</th>\n",
       "      <td>C0V350</td>\n",
       "      <td>溪埔</td>\n",
       "      <td>高雄市</td>\n",
       "      <td>大樹區</td>\n",
       "      <td>120.4386</td>\n",
       "      <td>22.7403</td>\n",
       "      <td>0</td>\n",
       "      <td>0.0</td>\n",
       "      <td>0.0</td>\n",
       "      <td>0.0</td>\n",
       "      <td>0.0</td>\n",
       "      <td>0.0</td>\n",
       "      <td>0.0</td>\n",
       "      <td>局屬無人測站</td>\n",
       "      <td>2017-07-12 13:40:00</td>\n",
       "    </tr>\n",
       "    <tr>\n",
       "      <th>2</th>\n",
       "      <td>C0R510</td>\n",
       "      <td>萬丹</td>\n",
       "      <td>屏東縣</td>\n",
       "      <td>萬丹鄉</td>\n",
       "      <td>120.4824</td>\n",
       "      <td>22.5896</td>\n",
       "      <td>0</td>\n",
       "      <td>0.0</td>\n",
       "      <td>0.0</td>\n",
       "      <td>0.0</td>\n",
       "      <td>0.0</td>\n",
       "      <td>0.0</td>\n",
       "      <td>0.0</td>\n",
       "      <td>局屬無人測站</td>\n",
       "      <td>2017-07-12 13:40:00</td>\n",
       "    </tr>\n",
       "    <tr>\n",
       "      <th>3</th>\n",
       "      <td>C0V750</td>\n",
       "      <td>路竹</td>\n",
       "      <td>高雄市</td>\n",
       "      <td>路竹區</td>\n",
       "      <td>120.2514</td>\n",
       "      <td>22.8566</td>\n",
       "      <td>0</td>\n",
       "      <td>0.0</td>\n",
       "      <td>0.0</td>\n",
       "      <td>0.0</td>\n",
       "      <td>0.0</td>\n",
       "      <td>0.0</td>\n",
       "      <td>0.0</td>\n",
       "      <td>局屬無人測站</td>\n",
       "      <td>2017-07-12 13:40:00</td>\n",
       "    </tr>\n",
       "    <tr>\n",
       "      <th>4</th>\n",
       "      <td>A1AC70</td>\n",
       "      <td>挹翠</td>\n",
       "      <td>臺北市</td>\n",
       "      <td>信義區</td>\n",
       "      <td>121.5662</td>\n",
       "      <td>25.0189</td>\n",
       "      <td>0</td>\n",
       "      <td>0.0</td>\n",
       "      <td>0.0</td>\n",
       "      <td>0.0</td>\n",
       "      <td>0.0</td>\n",
       "      <td>0.0</td>\n",
       "      <td>0.0</td>\n",
       "      <td>臺北市大地工程處(信義挹翠山莊)</td>\n",
       "      <td>2017-07-12 13:40:00</td>\n",
       "    </tr>\n",
       "    <tr>\n",
       "      <th>5</th>\n",
       "      <td>L1A800</td>\n",
       "      <td>碧湖</td>\n",
       "      <td>新北市</td>\n",
       "      <td>坪林區</td>\n",
       "      <td>121.7375</td>\n",
       "      <td>24.8944</td>\n",
       "      <td>0</td>\n",
       "      <td>0.0</td>\n",
       "      <td>0.0</td>\n",
       "      <td>0.0</td>\n",
       "      <td>0.0</td>\n",
       "      <td>0.5</td>\n",
       "      <td>0.0</td>\n",
       "      <td>翡翠水庫</td>\n",
       "      <td>2017-07-12 13:40:00</td>\n",
       "    </tr>\n",
       "    <tr>\n",
       "      <th>6</th>\n",
       "      <td>C1I440</td>\n",
       "      <td>新高口</td>\n",
       "      <td>南投縣</td>\n",
       "      <td>信義鄉</td>\n",
       "      <td>120.8707</td>\n",
       "      <td>23.4805</td>\n",
       "      <td>0</td>\n",
       "      <td>0.5</td>\n",
       "      <td>0.5</td>\n",
       "      <td>0.5</td>\n",
       "      <td>0.5</td>\n",
       "      <td>16.0</td>\n",
       "      <td>0.5</td>\n",
       "      <td>局屬無人測站</td>\n",
       "      <td>2017-07-12 13:40:00</td>\n",
       "    </tr>\n",
       "    <tr>\n",
       "      <th>7</th>\n",
       "      <td>C1H9B1</td>\n",
       "      <td>阿眉</td>\n",
       "      <td>南投縣</td>\n",
       "      <td>仁愛鄉</td>\n",
       "      <td>120.9861</td>\n",
       "      <td>24.1278</td>\n",
       "      <td>0</td>\n",
       "      <td>0.0</td>\n",
       "      <td>0.0</td>\n",
       "      <td>0.0</td>\n",
       "      <td>0.0</td>\n",
       "      <td>5.0</td>\n",
       "      <td>0.0</td>\n",
       "      <td>局屬無人測站</td>\n",
       "      <td>2017-07-12 13:40:00</td>\n",
       "    </tr>\n",
       "  </tbody>\n",
       "</table>\n",
       "</div>"
      ],
      "text/plain": [
       "   SiteId SiteName County Township  TWD67Lon  TWD67Lat  Rainfall10min  \\\n",
       "0  C0R260       春日    屏東縣      春日鄉  120.6203   22.3722              0   \n",
       "1  C0V350       溪埔    高雄市      大樹區  120.4386   22.7403              0   \n",
       "2  C0R510       萬丹    屏東縣      萬丹鄉  120.4824   22.5896              0   \n",
       "3  C0V750       路竹    高雄市      路竹區  120.2514   22.8566              0   \n",
       "4  A1AC70       挹翠    臺北市      信義區  121.5662   25.0189              0   \n",
       "5  L1A800       碧湖    新北市      坪林區  121.7375   24.8944              0   \n",
       "6  C1I440      新高口    南投縣      信義鄉  120.8707   23.4805              0   \n",
       "7  C1H9B1       阿眉    南投縣      仁愛鄉  120.9861   24.1278              0   \n",
       "\n",
       "   Rainfall1hr  Rainfall3hr  Rainfall6hr  Rainfall12hr  Rainfall24hr  Now  \\\n",
       "0          0.0          0.0          0.0           0.0           0.0  0.0   \n",
       "1          0.0          0.0          0.0           0.0           0.0  0.0   \n",
       "2          0.0          0.0          0.0           0.0           0.0  0.0   \n",
       "3          0.0          0.0          0.0           0.0           0.0  0.0   \n",
       "4          0.0          0.0          0.0           0.0           0.0  0.0   \n",
       "5          0.0          0.0          0.0           0.0           0.5  0.0   \n",
       "6          0.5          0.5          0.5           0.5          16.0  0.5   \n",
       "7          0.0          0.0          0.0           0.0           5.0  0.0   \n",
       "\n",
       "               Unit          PublishTime  \n",
       "0            局屬無人測站  2017-07-12 13:40:00  \n",
       "1            局屬無人測站  2017-07-12 13:40:00  \n",
       "2            局屬無人測站  2017-07-12 13:40:00  \n",
       "3            局屬無人測站  2017-07-12 13:40:00  \n",
       "4  臺北市大地工程處(信義挹翠山莊)  2017-07-12 13:40:00  \n",
       "5              翡翠水庫  2017-07-12 13:40:00  \n",
       "6            局屬無人測站  2017-07-12 13:40:00  \n",
       "7            局屬無人測站  2017-07-12 13:40:00  "
      ]
     },
     "execution_count": 36,
     "metadata": {},
     "output_type": "execute_result"
    }
   ],
   "source": [
    "sample_df = pandas.read_csv(input_csv, skiprows=skip_idx, sep=',', skipinitialspace=True)\n",
    "\n",
    "sample_df"
   ]
  },
  {
   "cell_type": "markdown",
   "metadata": {},
   "source": [
    "### Save DataFrame to CSV"
   ]
  },
  {
   "cell_type": "code",
   "execution_count": 34,
   "metadata": {
    "collapsed": true
   },
   "outputs": [],
   "source": [
    "cor_df = full_df[['SiteId', 'SiteName', 'TWD67Lon', 'TWD67Lat']]"
   ]
  },
  {
   "cell_type": "code",
   "execution_count": 37,
   "metadata": {
    "collapsed": true
   },
   "outputs": [],
   "source": [
    "output_csv = 'RainTenMin_Cor.csv'\n",
    "cor_df.to_csv(output_csv, sep=',', encoding='utf-8')"
   ]
  },
  {
   "cell_type": "code",
   "execution_count": null,
   "metadata": {
    "collapsed": true
   },
   "outputs": [],
   "source": []
  }
 ],
 "metadata": {
  "kernelspec": {
   "display_name": "Python 3",
   "language": "python",
   "name": "python3"
  },
  "language_info": {
   "codemirror_mode": {
    "name": "ipython",
    "version": 3
   },
   "file_extension": ".py",
   "mimetype": "text/x-python",
   "name": "python",
   "nbconvert_exporter": "python",
   "pygments_lexer": "ipython3",
   "version": "3.6.1"
  }
 },
 "nbformat": 4,
 "nbformat_minor": 2
}
